{
 "cells": [
  {
   "cell_type": "code",
   "execution_count": 58,
   "metadata": {},
   "outputs": [],
   "source": [
    "import pandas as pd\n",
    "import numpy as np\n",
    "import seaborn as sns\n",
    "import re"
   ]
  },
  {
   "cell_type": "code",
   "execution_count": 105,
   "metadata": {},
   "outputs": [],
   "source": [
    "df = pd.read_csv('ShopAddresses.csv')"
   ]
  },
  {
   "cell_type": "code",
   "execution_count": 113,
   "metadata": {},
   "outputs": [],
   "source": [
    "ds=df['ShopAddress']"
   ]
  },
  {
   "cell_type": "code",
   "execution_count": 121,
   "metadata": {},
   "outputs": [],
   "source": [
    "df['Postcode']= ds.str.findall(r'\\d{5}').str[0]\n"
   ]
  },
  {
   "cell_type": "code",
   "execution_count": 160,
   "metadata": {},
   "outputs": [
    {
     "data": {
      "text/html": [
       "<div>\n",
       "<style scoped>\n",
       "    .dataframe tbody tr th:only-of-type {\n",
       "        vertical-align: middle;\n",
       "    }\n",
       "\n",
       "    .dataframe tbody tr th {\n",
       "        vertical-align: top;\n",
       "    }\n",
       "\n",
       "    .dataframe thead th {\n",
       "        text-align: right;\n",
       "    }\n",
       "</style>\n",
       "<table border=\"1\" class=\"dataframe\">\n",
       "  <thead>\n",
       "    <tr style=\"text-align: right;\">\n",
       "      <th></th>\n",
       "      <th>ShopName</th>\n",
       "      <th>ShopAddress</th>\n",
       "      <th>Postcode</th>\n",
       "      <th>City</th>\n",
       "    </tr>\n",
       "  </thead>\n",
       "  <tbody>\n",
       "    <tr>\n",
       "      <th>0</th>\n",
       "      <td>BERJAYA TIMES SQUARE EXPERIENCE CENTRE</td>\n",
       "      <td>G17, GROUND FLOOR, EAST WING, BERJAYA TIMES SQ...</td>\n",
       "      <td>55100</td>\n",
       "      <td>NaN</td>\n",
       "    </tr>\n",
       "    <tr>\n",
       "      <th>1</th>\n",
       "      <td>BERJAYA TIMES SQUARE EXPERIENCE CENTRE</td>\n",
       "      <td>NO. 1-10, LEVEL 1, BERJAYA TIMES SQUARE, NO. 1...</td>\n",
       "      <td>55100</td>\n",
       "      <td>NaN</td>\n",
       "    </tr>\n",
       "    <tr>\n",
       "      <th>2</th>\n",
       "      <td>U MOBILE SERVICE CENTRE, AEON AU2 SHOPPING CENTRE</td>\n",
       "      <td>G11, AEON AU2 SHOPPING CENTRE, NO 6, JALAN TAM...</td>\n",
       "      <td>54200</td>\n",
       "      <td>NaN</td>\n",
       "    </tr>\n",
       "    <tr>\n",
       "      <th>3</th>\n",
       "      <td>U MOBILE SERVICE CENTRE, BUKIT TINGGI, KLANG</td>\n",
       "      <td>B-G-10, GROUND FLOOR, BBT ONE, LEBUH BATU NILA...</td>\n",
       "      <td>41200</td>\n",
       "      <td>KLANG</td>\n",
       "    </tr>\n",
       "    <tr>\n",
       "      <th>4</th>\n",
       "      <td>U MOBILE SERVICE CENTRE, SUNWAY PYRAMID</td>\n",
       "      <td>LOT F1.26, 1ST FLOOR, SUNWAY PYRAMID, NO. 3, J...</td>\n",
       "      <td>46150</td>\n",
       "      <td>PETALING JAYA</td>\n",
       "    </tr>\n",
       "    <tr>\n",
       "      <th>...</th>\n",
       "      <td>...</td>\n",
       "      <td>...</td>\n",
       "      <td>...</td>\n",
       "      <td>...</td>\n",
       "    </tr>\n",
       "    <tr>\n",
       "      <th>151</th>\n",
       "      <td>E.Q COMMUNICATION ENTERPRISE</td>\n",
       "      <td>LOT 315 JALAN BUKIT MOK MEK, 22000 JERETEH, TE...</td>\n",
       "      <td>22000</td>\n",
       "      <td>JERETEH</td>\n",
       "    </tr>\n",
       "    <tr>\n",
       "      <th>152</th>\n",
       "      <td>AZ BROADBAND SOLUTIONS</td>\n",
       "      <td>NO.9, JALAN DATUK BAHAMAN 3 28000 TEMERLOH PAHANG</td>\n",
       "      <td>28000</td>\n",
       "      <td>NaN</td>\n",
       "    </tr>\n",
       "    <tr>\n",
       "      <th>153</th>\n",
       "      <td>BONACO ENTERPRISE</td>\n",
       "      <td>NO.3 BAWAH BANGUNAN 36 UNIT, 26400 PUSAT JENGK...</td>\n",
       "      <td>26400</td>\n",
       "      <td>NaN</td>\n",
       "    </tr>\n",
       "    <tr>\n",
       "      <th>154</th>\n",
       "      <td>JJCOM TRADING</td>\n",
       "      <td>21B, JALAN DATO ABDULLAH 27600 RAUB PAHANG</td>\n",
       "      <td>27600</td>\n",
       "      <td>NaN</td>\n",
       "    </tr>\n",
       "    <tr>\n",
       "      <th>155</th>\n",
       "      <td>HELLO PHONE SHOP</td>\n",
       "      <td>LOT69, JALAN ENGKU MUDA MANSOR 26600 PEKAN PAHANG</td>\n",
       "      <td>26600</td>\n",
       "      <td>NaN</td>\n",
       "    </tr>\n",
       "  </tbody>\n",
       "</table>\n",
       "<p>156 rows × 4 columns</p>\n",
       "</div>"
      ],
      "text/plain": [
       "                                              ShopName  \\\n",
       "0               BERJAYA TIMES SQUARE EXPERIENCE CENTRE   \n",
       "1               BERJAYA TIMES SQUARE EXPERIENCE CENTRE   \n",
       "2    U MOBILE SERVICE CENTRE, AEON AU2 SHOPPING CENTRE   \n",
       "3         U MOBILE SERVICE CENTRE, BUKIT TINGGI, KLANG   \n",
       "4              U MOBILE SERVICE CENTRE, SUNWAY PYRAMID   \n",
       "..                                                 ...   \n",
       "151                       E.Q COMMUNICATION ENTERPRISE   \n",
       "152                             AZ BROADBAND SOLUTIONS   \n",
       "153                                  BONACO ENTERPRISE   \n",
       "154                                      JJCOM TRADING   \n",
       "155                                   HELLO PHONE SHOP   \n",
       "\n",
       "                                           ShopAddress Postcode           City  \n",
       "0    G17, GROUND FLOOR, EAST WING, BERJAYA TIMES SQ...    55100            NaN  \n",
       "1    NO. 1-10, LEVEL 1, BERJAYA TIMES SQUARE, NO. 1...    55100            NaN  \n",
       "2    G11, AEON AU2 SHOPPING CENTRE, NO 6, JALAN TAM...    54200            NaN  \n",
       "3    B-G-10, GROUND FLOOR, BBT ONE, LEBUH BATU NILA...    41200          KLANG  \n",
       "4    LOT F1.26, 1ST FLOOR, SUNWAY PYRAMID, NO. 3, J...    46150  PETALING JAYA  \n",
       "..                                                 ...      ...            ...  \n",
       "151  LOT 315 JALAN BUKIT MOK MEK, 22000 JERETEH, TE...    22000        JERETEH  \n",
       "152  NO.9, JALAN DATUK BAHAMAN 3 28000 TEMERLOH PAHANG    28000            NaN  \n",
       "153  NO.3 BAWAH BANGUNAN 36 UNIT, 26400 PUSAT JENGK...    26400            NaN  \n",
       "154         21B, JALAN DATO ABDULLAH 27600 RAUB PAHANG    27600            NaN  \n",
       "155  LOT69, JALAN ENGKU MUDA MANSOR 26600 PEKAN PAHANG    26600            NaN  \n",
       "\n",
       "[156 rows x 4 columns]"
      ]
     },
     "execution_count": 160,
     "metadata": {},
     "output_type": "execute_result"
    }
   ],
   "source": [
    "df"
   ]
  },
  {
   "cell_type": "code",
   "execution_count": 159,
   "metadata": {},
   "outputs": [],
   "source": [
    "df['City']= ds.str.findall(r'\\d{5} (.*?)\\,|').str[0]"
   ]
  },
  {
   "cell_type": "code",
   "execution_count": 128,
   "metadata": {},
   "outputs": [
    {
     "data": {
      "text/plain": [
       "0      G17, GROUND FLOOR, EAST WING, BERJAYA TIMES SQ...\n",
       "1      NO. 1-10, LEVEL 1, BERJAYA TIMES SQUARE, NO. 1...\n",
       "2      G11, AEON AU2 SHOPPING CENTRE, NO 6, JALAN TAM...\n",
       "3      B-G-10, GROUND FLOOR, BBT ONE, LEBUH BATU NILA...\n",
       "4      LOT F1.26, 1ST FLOOR, SUNWAY PYRAMID, NO. 3, J...\n",
       "                             ...                        \n",
       "151    LOT 315 JALAN BUKIT MOK MEK, 22000 JERETEH, TE...\n",
       "152    NO.9, JALAN DATUK BAHAMAN 3 28000 TEMERLOH PAHANG\n",
       "153    NO.3 BAWAH BANGUNAN 36 UNIT, 26400 PUSAT JENGK...\n",
       "154           21B, JALAN DATO ABDULLAH 27600 RAUB PAHANG\n",
       "155    LOT69, JALAN ENGKU MUDA MANSOR 26600 PEKAN PAHANG\n",
       "Name: ShopAddress, Length: 156, dtype: object"
      ]
     },
     "execution_count": 128,
     "metadata": {},
     "output_type": "execute_result"
    }
   ],
   "source": [
    "ds"
   ]
  },
  {
   "cell_type": "code",
   "execution_count": 192,
   "metadata": {
    "scrolled": true
   },
   "outputs": [
    {
     "data": {
      "text/plain": [
       "0      False\n",
       "1      False\n",
       "2      False\n",
       "3       True\n",
       "4       True\n",
       "       ...  \n",
       "151     True\n",
       "152    False\n",
       "153    False\n",
       "154    False\n",
       "155    False\n",
       "Name: ShopAddress, Length: 156, dtype: bool"
      ]
     },
     "execution_count": 192,
     "metadata": {},
     "output_type": "execute_result"
    }
   ],
   "source": [
    "ds.str.contains(r'\\d{5} (.*?)\\,')"
   ]
  },
  {
   "cell_type": "code",
   "execution_count": null,
   "metadata": {},
   "outputs": [],
   "source": []
  }
 ],
 "metadata": {
  "kernelspec": {
   "display_name": "Python 3",
   "language": "python",
   "name": "python3"
  },
  "language_info": {
   "codemirror_mode": {
    "name": "ipython",
    "version": 3
   },
   "file_extension": ".py",
   "mimetype": "text/x-python",
   "name": "python",
   "nbconvert_exporter": "python",
   "pygments_lexer": "ipython3",
   "version": "3.8.3"
  }
 },
 "nbformat": 4,
 "nbformat_minor": 4
}
