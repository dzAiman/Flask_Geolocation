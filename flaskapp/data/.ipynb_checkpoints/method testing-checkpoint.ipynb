{
 "cells": [
  {
   "cell_type": "code",
   "execution_count": 1,
   "metadata": {},
   "outputs": [
    {
     "data": {
      "text/html": [
       "<div>\n",
       "<style scoped>\n",
       "    .dataframe tbody tr th:only-of-type {\n",
       "        vertical-align: middle;\n",
       "    }\n",
       "\n",
       "    .dataframe tbody tr th {\n",
       "        vertical-align: top;\n",
       "    }\n",
       "\n",
       "    .dataframe thead th {\n",
       "        text-align: right;\n",
       "    }\n",
       "</style>\n",
       "<table border=\"1\" class=\"dataframe\">\n",
       "  <thead>\n",
       "    <tr style=\"text-align: right;\">\n",
       "      <th></th>\n",
       "      <th>ShopName</th>\n",
       "      <th>ShopAddress</th>\n",
       "    </tr>\n",
       "  </thead>\n",
       "  <tbody>\n",
       "    <tr>\n",
       "      <th>0</th>\n",
       "      <td>BERJAYA TIMES SQUARE EXPERIENCE CENTRE</td>\n",
       "      <td>G17, GROUND FLOOR, EAST WING, BERJAYA TIMES SQ...</td>\n",
       "    </tr>\n",
       "    <tr>\n",
       "      <th>1</th>\n",
       "      <td>BERJAYA TIMES SQUARE EXPERIENCE CENTRE</td>\n",
       "      <td>NO. 1-10, LEVEL 1, BERJAYA TIMES SQUARE, NO. 1...</td>\n",
       "    </tr>\n",
       "    <tr>\n",
       "      <th>2</th>\n",
       "      <td>U MOBILE SERVICE CENTRE, AEON AU2 SHOPPING CENTRE</td>\n",
       "      <td>G11, AEON AU2 SHOPPING CENTRE, NO 6, JALAN TAM...</td>\n",
       "    </tr>\n",
       "    <tr>\n",
       "      <th>3</th>\n",
       "      <td>U MOBILE SERVICE CENTRE, BUKIT TINGGI, KLANG</td>\n",
       "      <td>B-G-10, GROUND FLOOR, BBT ONE, LEBUH BATU NILA...</td>\n",
       "    </tr>\n",
       "    <tr>\n",
       "      <th>4</th>\n",
       "      <td>U MOBILE SERVICE CENTRE, SUNWAY PYRAMID</td>\n",
       "      <td>LOT F1.26, 1ST FLOOR, SUNWAY PYRAMID, NO. 3, J...</td>\n",
       "    </tr>\n",
       "    <tr>\n",
       "      <th>...</th>\n",
       "      <td>...</td>\n",
       "      <td>...</td>\n",
       "    </tr>\n",
       "    <tr>\n",
       "      <th>151</th>\n",
       "      <td>E.Q COMMUNICATION ENTERPRISE</td>\n",
       "      <td>LOT 315 JALAN BUKIT MOK MEK, 22000 JERETEH, TE...</td>\n",
       "    </tr>\n",
       "    <tr>\n",
       "      <th>152</th>\n",
       "      <td>AZ BROADBAND SOLUTIONS</td>\n",
       "      <td>NO.9, JALAN DATUK BAHAMAN 3 28000 TEMERLOH PAHANG</td>\n",
       "    </tr>\n",
       "    <tr>\n",
       "      <th>153</th>\n",
       "      <td>BONACO ENTERPRISE</td>\n",
       "      <td>NO.3 BAWAH BANGUNAN 36 UNIT, 26400 PUSAT JENGK...</td>\n",
       "    </tr>\n",
       "    <tr>\n",
       "      <th>154</th>\n",
       "      <td>JJCOM TRADING</td>\n",
       "      <td>21B, JALAN DATO ABDULLAH 27600 RAUB PAHANG</td>\n",
       "    </tr>\n",
       "    <tr>\n",
       "      <th>155</th>\n",
       "      <td>HELLO PHONE SHOP</td>\n",
       "      <td>LOT69, JALAN ENGKU MUDA MANSOR 26600 PEKAN PAHANG</td>\n",
       "    </tr>\n",
       "  </tbody>\n",
       "</table>\n",
       "<p>156 rows × 2 columns</p>\n",
       "</div>"
      ],
      "text/plain": [
       "                                              ShopName  \\\n",
       "0               BERJAYA TIMES SQUARE EXPERIENCE CENTRE   \n",
       "1               BERJAYA TIMES SQUARE EXPERIENCE CENTRE   \n",
       "2    U MOBILE SERVICE CENTRE, AEON AU2 SHOPPING CENTRE   \n",
       "3         U MOBILE SERVICE CENTRE, BUKIT TINGGI, KLANG   \n",
       "4              U MOBILE SERVICE CENTRE, SUNWAY PYRAMID   \n",
       "..                                                 ...   \n",
       "151                       E.Q COMMUNICATION ENTERPRISE   \n",
       "152                             AZ BROADBAND SOLUTIONS   \n",
       "153                                  BONACO ENTERPRISE   \n",
       "154                                      JJCOM TRADING   \n",
       "155                                   HELLO PHONE SHOP   \n",
       "\n",
       "                                           ShopAddress  \n",
       "0    G17, GROUND FLOOR, EAST WING, BERJAYA TIMES SQ...  \n",
       "1    NO. 1-10, LEVEL 1, BERJAYA TIMES SQUARE, NO. 1...  \n",
       "2    G11, AEON AU2 SHOPPING CENTRE, NO 6, JALAN TAM...  \n",
       "3    B-G-10, GROUND FLOOR, BBT ONE, LEBUH BATU NILA...  \n",
       "4    LOT F1.26, 1ST FLOOR, SUNWAY PYRAMID, NO. 3, J...  \n",
       "..                                                 ...  \n",
       "151  LOT 315 JALAN BUKIT MOK MEK, 22000 JERETEH, TE...  \n",
       "152  NO.9, JALAN DATUK BAHAMAN 3 28000 TEMERLOH PAHANG  \n",
       "153  NO.3 BAWAH BANGUNAN 36 UNIT, 26400 PUSAT JENGK...  \n",
       "154         21B, JALAN DATO ABDULLAH 27600 RAUB PAHANG  \n",
       "155  LOT69, JALAN ENGKU MUDA MANSOR 26600 PEKAN PAHANG  \n",
       "\n",
       "[156 rows x 2 columns]"
      ]
     },
     "execution_count": 1,
     "metadata": {},
     "output_type": "execute_result"
    }
   ],
   "source": [
    "import pandas as pd\n",
    "import numpy as np\n",
    "import re\n",
    "\n",
    "df = pd.read_csv('../ShopAddresses.csv')\n",
    "df"
   ]
  },
  {
   "cell_type": "code",
   "execution_count": 92,
   "metadata": {},
   "outputs": [
    {
     "data": {
      "text/html": [
       "<div>\n",
       "<style scoped>\n",
       "    .dataframe tbody tr th:only-of-type {\n",
       "        vertical-align: middle;\n",
       "    }\n",
       "\n",
       "    .dataframe tbody tr th {\n",
       "        vertical-align: top;\n",
       "    }\n",
       "\n",
       "    .dataframe thead th {\n",
       "        text-align: right;\n",
       "    }\n",
       "</style>\n",
       "<table border=\"1\" class=\"dataframe\">\n",
       "  <thead>\n",
       "    <tr style=\"text-align: right;\">\n",
       "      <th></th>\n",
       "      <th>ShopName</th>\n",
       "      <th>ShopAddress</th>\n",
       "      <th>Postcode</th>\n",
       "      <th>City</th>\n",
       "    </tr>\n",
       "  </thead>\n",
       "  <tbody>\n",
       "    <tr>\n",
       "      <th>0</th>\n",
       "      <td>BERJAYA TIMES SQUARE EXPERIENCE CENTRE</td>\n",
       "      <td>G17, GROUND FLOOR, EAST WING, BERJAYA TIMES SQ...</td>\n",
       "      <td>55100</td>\n",
       "      <td>NaN</td>\n",
       "    </tr>\n",
       "    <tr>\n",
       "      <th>1</th>\n",
       "      <td>BERJAYA TIMES SQUARE EXPERIENCE CENTRE</td>\n",
       "      <td>NO. 1-10, LEVEL 1, BERJAYA TIMES SQUARE, NO. 1...</td>\n",
       "      <td>55100</td>\n",
       "      <td>NaN</td>\n",
       "    </tr>\n",
       "    <tr>\n",
       "      <th>2</th>\n",
       "      <td>U MOBILE SERVICE CENTRE, AEON AU2 SHOPPING CENTRE</td>\n",
       "      <td>G11, AEON AU2 SHOPPING CENTRE, NO 6, JALAN TAM...</td>\n",
       "      <td>54200</td>\n",
       "      <td>NaN</td>\n",
       "    </tr>\n",
       "    <tr>\n",
       "      <th>3</th>\n",
       "      <td>U MOBILE SERVICE CENTRE, BUKIT TINGGI, KLANG</td>\n",
       "      <td>B-G-10, GROUND FLOOR, BBT ONE, LEBUH BATU NILA...</td>\n",
       "      <td>41200</td>\n",
       "      <td>NaN</td>\n",
       "    </tr>\n",
       "    <tr>\n",
       "      <th>4</th>\n",
       "      <td>U MOBILE SERVICE CENTRE, SUNWAY PYRAMID</td>\n",
       "      <td>LOT F1.26, 1ST FLOOR, SUNWAY PYRAMID, NO. 3, J...</td>\n",
       "      <td>46150</td>\n",
       "      <td>NaN</td>\n",
       "    </tr>\n",
       "    <tr>\n",
       "      <th>...</th>\n",
       "      <td>...</td>\n",
       "      <td>...</td>\n",
       "      <td>...</td>\n",
       "      <td>...</td>\n",
       "    </tr>\n",
       "    <tr>\n",
       "      <th>151</th>\n",
       "      <td>E.Q COMMUNICATION ENTERPRISE</td>\n",
       "      <td>LOT 315 JALAN BUKIT MOK MEK, 22000 JERETEH, TE...</td>\n",
       "      <td>22000</td>\n",
       "      <td>NaN</td>\n",
       "    </tr>\n",
       "    <tr>\n",
       "      <th>152</th>\n",
       "      <td>AZ BROADBAND SOLUTIONS</td>\n",
       "      <td>NO.9, JALAN DATUK BAHAMAN 3 28000 TEMERLOH PAHANG</td>\n",
       "      <td>28000</td>\n",
       "      <td>NaN</td>\n",
       "    </tr>\n",
       "    <tr>\n",
       "      <th>153</th>\n",
       "      <td>BONACO ENTERPRISE</td>\n",
       "      <td>NO.3 BAWAH BANGUNAN 36 UNIT, 26400 PUSAT JENGK...</td>\n",
       "      <td>26400</td>\n",
       "      <td>NaN</td>\n",
       "    </tr>\n",
       "    <tr>\n",
       "      <th>154</th>\n",
       "      <td>JJCOM TRADING</td>\n",
       "      <td>21B, JALAN DATO ABDULLAH 27600 RAUB PAHANG</td>\n",
       "      <td>27600</td>\n",
       "      <td>NaN</td>\n",
       "    </tr>\n",
       "    <tr>\n",
       "      <th>155</th>\n",
       "      <td>HELLO PHONE SHOP</td>\n",
       "      <td>LOT69, JALAN ENGKU MUDA MANSOR 26600 PEKAN PAHANG</td>\n",
       "      <td>26600</td>\n",
       "      <td>NaN</td>\n",
       "    </tr>\n",
       "  </tbody>\n",
       "</table>\n",
       "<p>156 rows × 4 columns</p>\n",
       "</div>"
      ],
      "text/plain": [
       "                                              ShopName  \\\n",
       "0               BERJAYA TIMES SQUARE EXPERIENCE CENTRE   \n",
       "1               BERJAYA TIMES SQUARE EXPERIENCE CENTRE   \n",
       "2    U MOBILE SERVICE CENTRE, AEON AU2 SHOPPING CENTRE   \n",
       "3         U MOBILE SERVICE CENTRE, BUKIT TINGGI, KLANG   \n",
       "4              U MOBILE SERVICE CENTRE, SUNWAY PYRAMID   \n",
       "..                                                 ...   \n",
       "151                       E.Q COMMUNICATION ENTERPRISE   \n",
       "152                             AZ BROADBAND SOLUTIONS   \n",
       "153                                  BONACO ENTERPRISE   \n",
       "154                                      JJCOM TRADING   \n",
       "155                                   HELLO PHONE SHOP   \n",
       "\n",
       "                                           ShopAddress Postcode City  \n",
       "0    G17, GROUND FLOOR, EAST WING, BERJAYA TIMES SQ...    55100  NaN  \n",
       "1    NO. 1-10, LEVEL 1, BERJAYA TIMES SQUARE, NO. 1...    55100  NaN  \n",
       "2    G11, AEON AU2 SHOPPING CENTRE, NO 6, JALAN TAM...    54200  NaN  \n",
       "3    B-G-10, GROUND FLOOR, BBT ONE, LEBUH BATU NILA...    41200  NaN  \n",
       "4    LOT F1.26, 1ST FLOOR, SUNWAY PYRAMID, NO. 3, J...    46150  NaN  \n",
       "..                                                 ...      ...  ...  \n",
       "151  LOT 315 JALAN BUKIT MOK MEK, 22000 JERETEH, TE...    22000  NaN  \n",
       "152  NO.9, JALAN DATUK BAHAMAN 3 28000 TEMERLOH PAHANG    28000  NaN  \n",
       "153  NO.3 BAWAH BANGUNAN 36 UNIT, 26400 PUSAT JENGK...    26400  NaN  \n",
       "154         21B, JALAN DATO ABDULLAH 27600 RAUB PAHANG    27600  NaN  \n",
       "155  LOT69, JALAN ENGKU MUDA MANSOR 26600 PEKAN PAHANG    26600  NaN  \n",
       "\n",
       "[156 rows x 4 columns]"
      ]
     },
     "execution_count": 92,
     "metadata": {},
     "output_type": "execute_result"
    }
   ],
   "source": [
    "df['Postcode'] = df['ShopAddress'].str.extract(r'(\\d{5})')\n",
    "df"
   ]
  },
  {
   "cell_type": "code",
   "execution_count": 3,
   "metadata": {},
   "outputs": [],
   "source": [
    "#df.to_csv(r'ShopPostcode.csv', index = False)\n",
    "#postcode = address.re.findall(r'\\d{5}').str[0]"
   ]
  },
  {
   "cell_type": "code",
   "execution_count": 4,
   "metadata": {},
   "outputs": [],
   "source": [
    "#df = pd.read_csv('ShopPostcode.csv', drop = [0])\n",
    "def to_postcode(address):\n",
    "    p = re.compile('\\d{5}')\n",
    "    postcode = str(p.findall(address)).strip(\"[]'\")\n",
    "    print(type(postcode))\n",
    "    return postcode"
   ]
  },
  {
   "cell_type": "code",
   "execution_count": 5,
   "metadata": {},
   "outputs": [
    {
     "data": {
      "text/html": [
       "<div>\n",
       "<style scoped>\n",
       "    .dataframe tbody tr th:only-of-type {\n",
       "        vertical-align: middle;\n",
       "    }\n",
       "\n",
       "    .dataframe tbody tr th {\n",
       "        vertical-align: top;\n",
       "    }\n",
       "\n",
       "    .dataframe thead th {\n",
       "        text-align: right;\n",
       "    }\n",
       "</style>\n",
       "<table border=\"1\" class=\"dataframe\">\n",
       "  <thead>\n",
       "    <tr style=\"text-align: right;\">\n",
       "      <th></th>\n",
       "      <th>ShopName</th>\n",
       "      <th>ShopAddress</th>\n",
       "      <th>Postcode</th>\n",
       "    </tr>\n",
       "  </thead>\n",
       "  <tbody>\n",
       "    <tr>\n",
       "      <th>0</th>\n",
       "      <td>BERJAYA TIMES SQUARE EXPERIENCE CENTRE</td>\n",
       "      <td>G17, GROUND FLOOR, EAST WING, BERJAYA TIMES SQ...</td>\n",
       "      <td>55100</td>\n",
       "    </tr>\n",
       "    <tr>\n",
       "      <th>1</th>\n",
       "      <td>BERJAYA TIMES SQUARE EXPERIENCE CENTRE</td>\n",
       "      <td>NO. 1-10, LEVEL 1, BERJAYA TIMES SQUARE, NO. 1...</td>\n",
       "      <td>55100</td>\n",
       "    </tr>\n",
       "    <tr>\n",
       "      <th>2</th>\n",
       "      <td>U MOBILE SERVICE CENTRE, AEON AU2 SHOPPING CENTRE</td>\n",
       "      <td>G11, AEON AU2 SHOPPING CENTRE, NO 6, JALAN TAM...</td>\n",
       "      <td>54200</td>\n",
       "    </tr>\n",
       "    <tr>\n",
       "      <th>3</th>\n",
       "      <td>U MOBILE SERVICE CENTRE, BUKIT TINGGI, KLANG</td>\n",
       "      <td>B-G-10, GROUND FLOOR, BBT ONE, LEBUH BATU NILA...</td>\n",
       "      <td>41200</td>\n",
       "    </tr>\n",
       "    <tr>\n",
       "      <th>4</th>\n",
       "      <td>U MOBILE SERVICE CENTRE, SUNWAY PYRAMID</td>\n",
       "      <td>LOT F1.26, 1ST FLOOR, SUNWAY PYRAMID, NO. 3, J...</td>\n",
       "      <td>46150</td>\n",
       "    </tr>\n",
       "    <tr>\n",
       "      <th>...</th>\n",
       "      <td>...</td>\n",
       "      <td>...</td>\n",
       "      <td>...</td>\n",
       "    </tr>\n",
       "    <tr>\n",
       "      <th>151</th>\n",
       "      <td>E.Q COMMUNICATION ENTERPRISE</td>\n",
       "      <td>LOT 315 JALAN BUKIT MOK MEK, 22000 JERETEH, TE...</td>\n",
       "      <td>22000</td>\n",
       "    </tr>\n",
       "    <tr>\n",
       "      <th>152</th>\n",
       "      <td>AZ BROADBAND SOLUTIONS</td>\n",
       "      <td>NO.9, JALAN DATUK BAHAMAN 3 28000 TEMERLOH PAHANG</td>\n",
       "      <td>28000</td>\n",
       "    </tr>\n",
       "    <tr>\n",
       "      <th>153</th>\n",
       "      <td>BONACO ENTERPRISE</td>\n",
       "      <td>NO.3 BAWAH BANGUNAN 36 UNIT, 26400 PUSAT JENGK...</td>\n",
       "      <td>26400</td>\n",
       "    </tr>\n",
       "    <tr>\n",
       "      <th>154</th>\n",
       "      <td>JJCOM TRADING</td>\n",
       "      <td>21B, JALAN DATO ABDULLAH 27600 RAUB PAHANG</td>\n",
       "      <td>27600</td>\n",
       "    </tr>\n",
       "    <tr>\n",
       "      <th>155</th>\n",
       "      <td>HELLO PHONE SHOP</td>\n",
       "      <td>LOT69, JALAN ENGKU MUDA MANSOR 26600 PEKAN PAHANG</td>\n",
       "      <td>26600</td>\n",
       "    </tr>\n",
       "  </tbody>\n",
       "</table>\n",
       "<p>156 rows × 3 columns</p>\n",
       "</div>"
      ],
      "text/plain": [
       "                                              ShopName  \\\n",
       "0               BERJAYA TIMES SQUARE EXPERIENCE CENTRE   \n",
       "1               BERJAYA TIMES SQUARE EXPERIENCE CENTRE   \n",
       "2    U MOBILE SERVICE CENTRE, AEON AU2 SHOPPING CENTRE   \n",
       "3         U MOBILE SERVICE CENTRE, BUKIT TINGGI, KLANG   \n",
       "4              U MOBILE SERVICE CENTRE, SUNWAY PYRAMID   \n",
       "..                                                 ...   \n",
       "151                       E.Q COMMUNICATION ENTERPRISE   \n",
       "152                             AZ BROADBAND SOLUTIONS   \n",
       "153                                  BONACO ENTERPRISE   \n",
       "154                                      JJCOM TRADING   \n",
       "155                                   HELLO PHONE SHOP   \n",
       "\n",
       "                                           ShopAddress Postcode  \n",
       "0    G17, GROUND FLOOR, EAST WING, BERJAYA TIMES SQ...    55100  \n",
       "1    NO. 1-10, LEVEL 1, BERJAYA TIMES SQUARE, NO. 1...    55100  \n",
       "2    G11, AEON AU2 SHOPPING CENTRE, NO 6, JALAN TAM...    54200  \n",
       "3    B-G-10, GROUND FLOOR, BBT ONE, LEBUH BATU NILA...    41200  \n",
       "4    LOT F1.26, 1ST FLOOR, SUNWAY PYRAMID, NO. 3, J...    46150  \n",
       "..                                                 ...      ...  \n",
       "151  LOT 315 JALAN BUKIT MOK MEK, 22000 JERETEH, TE...    22000  \n",
       "152  NO.9, JALAN DATUK BAHAMAN 3 28000 TEMERLOH PAHANG    28000  \n",
       "153  NO.3 BAWAH BANGUNAN 36 UNIT, 26400 PUSAT JENGK...    26400  \n",
       "154         21B, JALAN DATO ABDULLAH 27600 RAUB PAHANG    27600  \n",
       "155  LOT69, JALAN ENGKU MUDA MANSOR 26600 PEKAN PAHANG    26600  \n",
       "\n",
       "[156 rows x 3 columns]"
      ]
     },
     "execution_count": 5,
     "metadata": {},
     "output_type": "execute_result"
    }
   ],
   "source": [
    "add = 'No.5, jalan kemacahaya 8, 55100, hulu langat, selangor'\n",
    "df"
   ]
  },
  {
   "cell_type": "code",
   "execution_count": 6,
   "metadata": {},
   "outputs": [
    {
     "name": "stdout",
     "output_type": "stream",
     "text": [
      "<class 'str'>\n"
     ]
    }
   ],
   "source": [
    "post = to_postcode(add)"
   ]
  },
  {
   "cell_type": "code",
   "execution_count": 7,
   "metadata": {},
   "outputs": [
    {
     "name": "stdout",
     "output_type": "stream",
     "text": [
      "<class 'str'>\n"
     ]
    },
    {
     "data": {
      "text/html": [
       "<div>\n",
       "<style scoped>\n",
       "    .dataframe tbody tr th:only-of-type {\n",
       "        vertical-align: middle;\n",
       "    }\n",
       "\n",
       "    .dataframe tbody tr th {\n",
       "        vertical-align: top;\n",
       "    }\n",
       "\n",
       "    .dataframe thead th {\n",
       "        text-align: right;\n",
       "    }\n",
       "</style>\n",
       "<table border=\"1\" class=\"dataframe\">\n",
       "  <thead>\n",
       "    <tr style=\"text-align: right;\">\n",
       "      <th></th>\n",
       "      <th>ShopName</th>\n",
       "      <th>ShopAddress</th>\n",
       "      <th>Postcode</th>\n",
       "    </tr>\n",
       "  </thead>\n",
       "  <tbody>\n",
       "    <tr>\n",
       "      <th>0</th>\n",
       "      <td>BERJAYA TIMES SQUARE EXPERIENCE CENTRE</td>\n",
       "      <td>G17, GROUND FLOOR, EAST WING, BERJAYA TIMES SQ...</td>\n",
       "      <td>55100</td>\n",
       "    </tr>\n",
       "    <tr>\n",
       "      <th>1</th>\n",
       "      <td>BERJAYA TIMES SQUARE EXPERIENCE CENTRE</td>\n",
       "      <td>NO. 1-10, LEVEL 1, BERJAYA TIMES SQUARE, NO. 1...</td>\n",
       "      <td>55100</td>\n",
       "    </tr>\n",
       "    <tr>\n",
       "      <th>19</th>\n",
       "      <td>FIRST ONE MOBILE SDN BHD (S2)</td>\n",
       "      <td>PAVILION KUALA LUMPUR LOT: TL1.100.00 LEVEL 1 ...</td>\n",
       "      <td>55100</td>\n",
       "    </tr>\n",
       "    <tr>\n",
       "      <th>20</th>\n",
       "      <td>FIRST ONE MOBILE SDN BHD (S3)</td>\n",
       "      <td>LOT 3-43,SUNWAY VELOCITY MALL, 55100 KUALA LUM...</td>\n",
       "      <td>55100</td>\n",
       "    </tr>\n",
       "  </tbody>\n",
       "</table>\n",
       "</div>"
      ],
      "text/plain": [
       "                                  ShopName  \\\n",
       "0   BERJAYA TIMES SQUARE EXPERIENCE CENTRE   \n",
       "1   BERJAYA TIMES SQUARE EXPERIENCE CENTRE   \n",
       "19           FIRST ONE MOBILE SDN BHD (S2)   \n",
       "20           FIRST ONE MOBILE SDN BHD (S3)   \n",
       "\n",
       "                                          ShopAddress Postcode  \n",
       "0   G17, GROUND FLOOR, EAST WING, BERJAYA TIMES SQ...    55100  \n",
       "1   NO. 1-10, LEVEL 1, BERJAYA TIMES SQUARE, NO. 1...    55100  \n",
       "19  PAVILION KUALA LUMPUR LOT: TL1.100.00 LEVEL 1 ...    55100  \n",
       "20  LOT 3-43,SUNWAY VELOCITY MALL, 55100 KUALA LUM...    55100  "
      ]
     },
     "execution_count": 7,
     "metadata": {},
     "output_type": "execute_result"
    }
   ],
   "source": [
    "df.loc[df['Postcode'] == to_postcode(add)]"
   ]
  },
  {
   "cell_type": "code",
   "execution_count": 212,
   "metadata": {},
   "outputs": [],
   "source": [
    "def to_city1(address):\n",
    "    p = re.compile('\\d{5}(\\s|,\\s)(\\w*\\s\\w*|\\w*)')\n",
    "    city = str(p.findall(address))\n",
    "    return city.group(1)"
   ]
  },
  {
   "cell_type": "code",
   "execution_count": 213,
   "metadata": {},
   "outputs": [
    {
     "name": "stdout",
     "output_type": "stream",
     "text": [
      "<re.Match object; span=(71, 90), match='55100, KUALA LUMPUR'>\n",
      "None\n"
     ]
    }
   ],
   "source": [
    "print(to_city('G17, GROUND FLOOR, EAST WING, BERJAYA TIMES SQUARE, NO. 1, JALAN IMBI, 55100, KUALA LUMPUR.'))"
   ]
  },
  {
   "cell_type": "code",
   "execution_count": 60,
   "metadata": {},
   "outputs": [],
   "source": [
    "target = df['ShopAddress']"
   ]
  },
  {
   "cell_type": "code",
   "execution_count": 207,
   "metadata": {},
   "outputs": [
    {
     "ename": "AttributeError",
     "evalue": "'DataFrame' object has no attribute 'str'",
     "output_type": "error",
     "traceback": [
      "\u001b[0;31m---------------------------------------------------------------------------\u001b[0m",
      "\u001b[0;31mAttributeError\u001b[0m                            Traceback (most recent call last)",
      "\u001b[0;32m<ipython-input-207-668386531171>\u001b[0m in \u001b[0;36m<module>\u001b[0;34m\u001b[0m\n\u001b[0;32m----> 1\u001b[0;31m \u001b[0mdf\u001b[0m\u001b[0;34m[\u001b[0m\u001b[0;34m'City'\u001b[0m\u001b[0;34m]\u001b[0m \u001b[0;34m=\u001b[0m \u001b[0mdf\u001b[0m\u001b[0;34m[\u001b[0m\u001b[0;34m'ShopAddress'\u001b[0m\u001b[0;34m]\u001b[0m\u001b[0;34m.\u001b[0m\u001b[0mstr\u001b[0m\u001b[0;34m.\u001b[0m\u001b[0mextract\u001b[0m\u001b[0;34m(\u001b[0m\u001b[0;34mr\"\\d{5}(\\s|,\\s)(\\w*\\s\\w*|\\w*)\"\u001b[0m\u001b[0;34m)\u001b[0m\u001b[0;34m.\u001b[0m\u001b[0mstr\u001b[0m\u001b[0;34m[\u001b[0m\u001b[0;36m0\u001b[0m\u001b[0;34m]\u001b[0m\u001b[0;34m\u001b[0m\u001b[0;34m\u001b[0m\u001b[0m\n\u001b[0m\u001b[1;32m      2\u001b[0m \u001b[0mdf\u001b[0m\u001b[0;34m\u001b[0m\u001b[0;34m\u001b[0m\u001b[0m\n",
      "\u001b[0;32m~/anaconda3/lib/python3.7/site-packages/pandas/core/generic.py\u001b[0m in \u001b[0;36m__getattr__\u001b[0;34m(self, name)\u001b[0m\n\u001b[1;32m   5272\u001b[0m             \u001b[0;32mif\u001b[0m \u001b[0mself\u001b[0m\u001b[0;34m.\u001b[0m\u001b[0m_info_axis\u001b[0m\u001b[0;34m.\u001b[0m\u001b[0m_can_hold_identifiers_and_holds_name\u001b[0m\u001b[0;34m(\u001b[0m\u001b[0mname\u001b[0m\u001b[0;34m)\u001b[0m\u001b[0;34m:\u001b[0m\u001b[0;34m\u001b[0m\u001b[0;34m\u001b[0m\u001b[0m\n\u001b[1;32m   5273\u001b[0m                 \u001b[0;32mreturn\u001b[0m \u001b[0mself\u001b[0m\u001b[0;34m[\u001b[0m\u001b[0mname\u001b[0m\u001b[0;34m]\u001b[0m\u001b[0;34m\u001b[0m\u001b[0;34m\u001b[0m\u001b[0m\n\u001b[0;32m-> 5274\u001b[0;31m             \u001b[0;32mreturn\u001b[0m \u001b[0mobject\u001b[0m\u001b[0;34m.\u001b[0m\u001b[0m__getattribute__\u001b[0m\u001b[0;34m(\u001b[0m\u001b[0mself\u001b[0m\u001b[0;34m,\u001b[0m \u001b[0mname\u001b[0m\u001b[0;34m)\u001b[0m\u001b[0;34m\u001b[0m\u001b[0;34m\u001b[0m\u001b[0m\n\u001b[0m\u001b[1;32m   5275\u001b[0m \u001b[0;34m\u001b[0m\u001b[0m\n\u001b[1;32m   5276\u001b[0m     \u001b[0;32mdef\u001b[0m \u001b[0m__setattr__\u001b[0m\u001b[0;34m(\u001b[0m\u001b[0mself\u001b[0m\u001b[0;34m,\u001b[0m \u001b[0mname\u001b[0m\u001b[0;34m:\u001b[0m \u001b[0mstr\u001b[0m\u001b[0;34m,\u001b[0m \u001b[0mvalue\u001b[0m\u001b[0;34m)\u001b[0m \u001b[0;34m->\u001b[0m \u001b[0;32mNone\u001b[0m\u001b[0;34m:\u001b[0m\u001b[0;34m\u001b[0m\u001b[0;34m\u001b[0m\u001b[0m\n",
      "\u001b[0;31mAttributeError\u001b[0m: 'DataFrame' object has no attribute 'str'"
     ]
    }
   ],
   "source": [
    "df['City'] = df['ShopAddress'].str.extract(r\"\\d{5}(\\s|,\\s)(\\w*\\s\\w*|\\w*)\")\n",
    "df"
   ]
  },
  {
   "cell_type": "code",
   "execution_count": 94,
   "metadata": {
    "scrolled": true
   },
   "outputs": [
    {
     "ename": "AttributeError",
     "evalue": "'Series' object has no attribute 'ShopAddress'",
     "output_type": "error",
     "traceback": [
      "\u001b[0;31m---------------------------------------------------------------------------\u001b[0m",
      "\u001b[0;31mAttributeError\u001b[0m                            Traceback (most recent call last)",
      "\u001b[0;32m<ipython-input-94-c9e31aec3b2a>\u001b[0m in \u001b[0;36m<module>\u001b[0;34m\u001b[0m\n\u001b[0;32m----> 1\u001b[0;31m \u001b[0mdf\u001b[0m\u001b[0;34m.\u001b[0m\u001b[0mapply\u001b[0m\u001b[0;34m(\u001b[0m\u001b[0;32mlambda\u001b[0m \u001b[0mx\u001b[0m \u001b[0;34m:\u001b[0m \u001b[0mx\u001b[0m\u001b[0;34m.\u001b[0m\u001b[0mShopAddress\u001b[0m\u001b[0;34m.\u001b[0m\u001b[0mstr\u001b[0m\u001b[0;34m.\u001b[0m\u001b[0mfindall\u001b[0m\u001b[0;34m(\u001b[0m\u001b[0;34mr'\\d{5},\\s(\\w*\\s\\w*|\\w*)'\u001b[0m\u001b[0;34m)\u001b[0m\u001b[0;34m.\u001b[0m\u001b[0mstr\u001b[0m\u001b[0;34m[\u001b[0m\u001b[0;36m0\u001b[0m\u001b[0;34m]\u001b[0m\u001b[0;34m)\u001b[0m\u001b[0;34m\u001b[0m\u001b[0;34m\u001b[0m\u001b[0m\n\u001b[0m",
      "\u001b[0;32m~/anaconda3/lib/python3.7/site-packages/pandas/core/frame.py\u001b[0m in \u001b[0;36mapply\u001b[0;34m(self, func, axis, raw, result_type, args, **kwds)\u001b[0m\n\u001b[1;32m   6876\u001b[0m             \u001b[0mkwds\u001b[0m\u001b[0;34m=\u001b[0m\u001b[0mkwds\u001b[0m\u001b[0;34m,\u001b[0m\u001b[0;34m\u001b[0m\u001b[0;34m\u001b[0m\u001b[0m\n\u001b[1;32m   6877\u001b[0m         )\n\u001b[0;32m-> 6878\u001b[0;31m         \u001b[0;32mreturn\u001b[0m \u001b[0mop\u001b[0m\u001b[0;34m.\u001b[0m\u001b[0mget_result\u001b[0m\u001b[0;34m(\u001b[0m\u001b[0;34m)\u001b[0m\u001b[0;34m\u001b[0m\u001b[0;34m\u001b[0m\u001b[0m\n\u001b[0m\u001b[1;32m   6879\u001b[0m \u001b[0;34m\u001b[0m\u001b[0m\n\u001b[1;32m   6880\u001b[0m     \u001b[0;32mdef\u001b[0m \u001b[0mapplymap\u001b[0m\u001b[0;34m(\u001b[0m\u001b[0mself\u001b[0m\u001b[0;34m,\u001b[0m \u001b[0mfunc\u001b[0m\u001b[0;34m)\u001b[0m \u001b[0;34m->\u001b[0m \u001b[0;34m\"DataFrame\"\u001b[0m\u001b[0;34m:\u001b[0m\u001b[0;34m\u001b[0m\u001b[0;34m\u001b[0m\u001b[0m\n",
      "\u001b[0;32m~/anaconda3/lib/python3.7/site-packages/pandas/core/apply.py\u001b[0m in \u001b[0;36mget_result\u001b[0;34m(self)\u001b[0m\n\u001b[1;32m    184\u001b[0m             \u001b[0;32mreturn\u001b[0m \u001b[0mself\u001b[0m\u001b[0;34m.\u001b[0m\u001b[0mapply_raw\u001b[0m\u001b[0;34m(\u001b[0m\u001b[0;34m)\u001b[0m\u001b[0;34m\u001b[0m\u001b[0;34m\u001b[0m\u001b[0m\n\u001b[1;32m    185\u001b[0m \u001b[0;34m\u001b[0m\u001b[0m\n\u001b[0;32m--> 186\u001b[0;31m         \u001b[0;32mreturn\u001b[0m \u001b[0mself\u001b[0m\u001b[0;34m.\u001b[0m\u001b[0mapply_standard\u001b[0m\u001b[0;34m(\u001b[0m\u001b[0;34m)\u001b[0m\u001b[0;34m\u001b[0m\u001b[0;34m\u001b[0m\u001b[0m\n\u001b[0m\u001b[1;32m    187\u001b[0m \u001b[0;34m\u001b[0m\u001b[0m\n\u001b[1;32m    188\u001b[0m     \u001b[0;32mdef\u001b[0m \u001b[0mapply_empty_result\u001b[0m\u001b[0;34m(\u001b[0m\u001b[0mself\u001b[0m\u001b[0;34m)\u001b[0m\u001b[0;34m:\u001b[0m\u001b[0;34m\u001b[0m\u001b[0;34m\u001b[0m\u001b[0m\n",
      "\u001b[0;32m~/anaconda3/lib/python3.7/site-packages/pandas/core/apply.py\u001b[0m in \u001b[0;36mapply_standard\u001b[0;34m(self)\u001b[0m\n\u001b[1;32m    294\u001b[0m             \u001b[0;32mtry\u001b[0m\u001b[0;34m:\u001b[0m\u001b[0;34m\u001b[0m\u001b[0;34m\u001b[0m\u001b[0m\n\u001b[1;32m    295\u001b[0m                 result = libreduction.compute_reduction(\n\u001b[0;32m--> 296\u001b[0;31m                     \u001b[0mvalues\u001b[0m\u001b[0;34m,\u001b[0m \u001b[0mself\u001b[0m\u001b[0;34m.\u001b[0m\u001b[0mf\u001b[0m\u001b[0;34m,\u001b[0m \u001b[0maxis\u001b[0m\u001b[0;34m=\u001b[0m\u001b[0mself\u001b[0m\u001b[0;34m.\u001b[0m\u001b[0maxis\u001b[0m\u001b[0;34m,\u001b[0m \u001b[0mdummy\u001b[0m\u001b[0;34m=\u001b[0m\u001b[0mdummy\u001b[0m\u001b[0;34m,\u001b[0m \u001b[0mlabels\u001b[0m\u001b[0;34m=\u001b[0m\u001b[0mlabels\u001b[0m\u001b[0;34m\u001b[0m\u001b[0;34m\u001b[0m\u001b[0m\n\u001b[0m\u001b[1;32m    297\u001b[0m                 )\n\u001b[1;32m    298\u001b[0m             \u001b[0;32mexcept\u001b[0m \u001b[0mValueError\u001b[0m \u001b[0;32mas\u001b[0m \u001b[0merr\u001b[0m\u001b[0;34m:\u001b[0m\u001b[0;34m\u001b[0m\u001b[0;34m\u001b[0m\u001b[0m\n",
      "\u001b[0;32mpandas/_libs/reduction.pyx\u001b[0m in \u001b[0;36mpandas._libs.reduction.compute_reduction\u001b[0;34m()\u001b[0m\n",
      "\u001b[0;32mpandas/_libs/reduction.pyx\u001b[0m in \u001b[0;36mpandas._libs.reduction.Reducer.get_result\u001b[0;34m()\u001b[0m\n",
      "\u001b[0;32m<ipython-input-94-c9e31aec3b2a>\u001b[0m in \u001b[0;36m<lambda>\u001b[0;34m(x)\u001b[0m\n\u001b[0;32m----> 1\u001b[0;31m \u001b[0mdf\u001b[0m\u001b[0;34m.\u001b[0m\u001b[0mapply\u001b[0m\u001b[0;34m(\u001b[0m\u001b[0;32mlambda\u001b[0m \u001b[0mx\u001b[0m \u001b[0;34m:\u001b[0m \u001b[0mx\u001b[0m\u001b[0;34m.\u001b[0m\u001b[0mShopAddress\u001b[0m\u001b[0;34m.\u001b[0m\u001b[0mstr\u001b[0m\u001b[0;34m.\u001b[0m\u001b[0mfindall\u001b[0m\u001b[0;34m(\u001b[0m\u001b[0;34mr'\\d{5},\\s(\\w*\\s\\w*|\\w*)'\u001b[0m\u001b[0;34m)\u001b[0m\u001b[0;34m.\u001b[0m\u001b[0mstr\u001b[0m\u001b[0;34m[\u001b[0m\u001b[0;36m0\u001b[0m\u001b[0;34m]\u001b[0m\u001b[0;34m)\u001b[0m\u001b[0;34m\u001b[0m\u001b[0;34m\u001b[0m\u001b[0m\n\u001b[0m",
      "\u001b[0;32m~/anaconda3/lib/python3.7/site-packages/pandas/core/generic.py\u001b[0m in \u001b[0;36m__getattr__\u001b[0;34m(self, name)\u001b[0m\n\u001b[1;32m   5272\u001b[0m             \u001b[0;32mif\u001b[0m \u001b[0mself\u001b[0m\u001b[0;34m.\u001b[0m\u001b[0m_info_axis\u001b[0m\u001b[0;34m.\u001b[0m\u001b[0m_can_hold_identifiers_and_holds_name\u001b[0m\u001b[0;34m(\u001b[0m\u001b[0mname\u001b[0m\u001b[0;34m)\u001b[0m\u001b[0;34m:\u001b[0m\u001b[0;34m\u001b[0m\u001b[0;34m\u001b[0m\u001b[0m\n\u001b[1;32m   5273\u001b[0m                 \u001b[0;32mreturn\u001b[0m \u001b[0mself\u001b[0m\u001b[0;34m[\u001b[0m\u001b[0mname\u001b[0m\u001b[0;34m]\u001b[0m\u001b[0;34m\u001b[0m\u001b[0;34m\u001b[0m\u001b[0m\n\u001b[0;32m-> 5274\u001b[0;31m             \u001b[0;32mreturn\u001b[0m \u001b[0mobject\u001b[0m\u001b[0;34m.\u001b[0m\u001b[0m__getattribute__\u001b[0m\u001b[0;34m(\u001b[0m\u001b[0mself\u001b[0m\u001b[0;34m,\u001b[0m \u001b[0mname\u001b[0m\u001b[0;34m)\u001b[0m\u001b[0;34m\u001b[0m\u001b[0;34m\u001b[0m\u001b[0m\n\u001b[0m\u001b[1;32m   5275\u001b[0m \u001b[0;34m\u001b[0m\u001b[0m\n\u001b[1;32m   5276\u001b[0m     \u001b[0;32mdef\u001b[0m \u001b[0m__setattr__\u001b[0m\u001b[0;34m(\u001b[0m\u001b[0mself\u001b[0m\u001b[0;34m,\u001b[0m \u001b[0mname\u001b[0m\u001b[0;34m:\u001b[0m \u001b[0mstr\u001b[0m\u001b[0;34m,\u001b[0m \u001b[0mvalue\u001b[0m\u001b[0;34m)\u001b[0m \u001b[0;34m->\u001b[0m \u001b[0;32mNone\u001b[0m\u001b[0;34m:\u001b[0m\u001b[0;34m\u001b[0m\u001b[0;34m\u001b[0m\u001b[0m\n",
      "\u001b[0;31mAttributeError\u001b[0m: 'Series' object has no attribute 'ShopAddress'"
     ]
    }
   ],
   "source": [
    "df.apply(lambda x : x.ShopAddress.str.findall(r'\\d{5},\\s(\\w*\\s\\w*|\\w*)').str[0])"
   ]
  },
  {
   "cell_type": "code",
   "execution_count": 107,
   "metadata": {},
   "outputs": [
    {
     "data": {
      "text/plain": [
       "0      []\n",
       "1      []\n",
       "2      []\n",
       "3      []\n",
       "4      []\n",
       "       ..\n",
       "151    []\n",
       "152    []\n",
       "153    []\n",
       "154    []\n",
       "155    []\n",
       "Name: ShopAddress, Length: 156, dtype: object"
      ]
     },
     "execution_count": 107,
     "metadata": {},
     "output_type": "execute_result"
    }
   ],
   "source": [
    "df.ShopAddress.apply(lambda x : to_city(x))"
   ]
  },
  {
   "cell_type": "code",
   "execution_count": 120,
   "metadata": {},
   "outputs": [
    {
     "ename": "AttributeError",
     "evalue": "'NoneType' object has no attribute 'group'",
     "output_type": "error",
     "traceback": [
      "\u001b[0;31m---------------------------------------------------------------------------\u001b[0m",
      "\u001b[0;31mAttributeError\u001b[0m                            Traceback (most recent call last)",
      "\u001b[0;32m<ipython-input-120-84788a325e5b>\u001b[0m in \u001b[0;36m<module>\u001b[0;34m\u001b[0m\n\u001b[0;32m----> 1\u001b[0;31m \u001b[0mhello\u001b[0m \u001b[0;34m=\u001b[0m \u001b[0mre\u001b[0m\u001b[0;34m.\u001b[0m\u001b[0mmatch\u001b[0m\u001b[0;34m(\u001b[0m\u001b[0;34m'\\d{5},\\s(\\w*\\s\\w*|\\w*)'\u001b[0m\u001b[0;34m,\u001b[0m \u001b[0madd\u001b[0m\u001b[0;34m,\u001b[0m \u001b[0mre\u001b[0m\u001b[0;34m.\u001b[0m\u001b[0mIGNORECASE\u001b[0m\u001b[0;34m)\u001b[0m\u001b[0;34m.\u001b[0m\u001b[0mgroup\u001b[0m\u001b[0;34m(\u001b[0m\u001b[0;36m1\u001b[0m\u001b[0;34m)\u001b[0m\u001b[0;34m\u001b[0m\u001b[0;34m\u001b[0m\u001b[0m\n\u001b[0m\u001b[1;32m      2\u001b[0m \u001b[0mhello\u001b[0m\u001b[0;34m\u001b[0m\u001b[0;34m\u001b[0m\u001b[0m\n",
      "\u001b[0;31mAttributeError\u001b[0m: 'NoneType' object has no attribute 'group'"
     ]
    }
   ],
   "source": [
    "hello = re.match('\\d{5},\\s(\\w*\\s\\w*|\\w*)', add, re.IGNORECASE).group(1)\n",
    "hello"
   ]
  },
  {
   "cell_type": "code",
   "execution_count": 214,
   "metadata": {},
   "outputs": [],
   "source": [
    "def to_city(address):\n",
    "    p = re.compile('\\d{5}(\\s|,\\s)(\\w*\\s\\w*|\\w*)')\n",
    "    city = re.search(p, address)\n",
    "    return city.group(2)\n"
   ]
  },
  {
   "cell_type": "code",
   "execution_count": 215,
   "metadata": {},
   "outputs": [
    {
     "name": "stdout",
     "output_type": "stream",
     "text": [
      "hulu langat\n"
     ]
    }
   ],
   "source": [
    "print(to_city(add))"
   ]
  },
  {
   "cell_type": "code",
   "execution_count": 216,
   "metadata": {
    "scrolled": true
   },
   "outputs": [
    {
     "ename": "AttributeError",
     "evalue": "'NoneType' object has no attribute 'group'",
     "output_type": "error",
     "traceback": [
      "\u001b[0;31m---------------------------------------------------------------------------\u001b[0m",
      "\u001b[0;31mAttributeError\u001b[0m                            Traceback (most recent call last)",
      "\u001b[0;32m<ipython-input-216-0f8ac8cdd0a2>\u001b[0m in \u001b[0;36m<module>\u001b[0;34m\u001b[0m\n\u001b[0;32m----> 1\u001b[0;31m \u001b[0mdf\u001b[0m\u001b[0;34m.\u001b[0m\u001b[0mapply\u001b[0m\u001b[0;34m(\u001b[0m\u001b[0;32mlambda\u001b[0m \u001b[0mx\u001b[0m \u001b[0;34m:\u001b[0m \u001b[0mto_city\u001b[0m\u001b[0;34m(\u001b[0m\u001b[0mx\u001b[0m\u001b[0;34m.\u001b[0m\u001b[0mShopAddress\u001b[0m\u001b[0;34m)\u001b[0m\u001b[0;34m,\u001b[0m \u001b[0maxis\u001b[0m \u001b[0;34m=\u001b[0m \u001b[0;36m1\u001b[0m\u001b[0;34m)\u001b[0m\u001b[0;34m\u001b[0m\u001b[0;34m\u001b[0m\u001b[0m\n\u001b[0m",
      "\u001b[0;32m~/anaconda3/lib/python3.7/site-packages/pandas/core/frame.py\u001b[0m in \u001b[0;36mapply\u001b[0;34m(self, func, axis, raw, result_type, args, **kwds)\u001b[0m\n\u001b[1;32m   6876\u001b[0m             \u001b[0mkwds\u001b[0m\u001b[0;34m=\u001b[0m\u001b[0mkwds\u001b[0m\u001b[0;34m,\u001b[0m\u001b[0;34m\u001b[0m\u001b[0;34m\u001b[0m\u001b[0m\n\u001b[1;32m   6877\u001b[0m         )\n\u001b[0;32m-> 6878\u001b[0;31m         \u001b[0;32mreturn\u001b[0m \u001b[0mop\u001b[0m\u001b[0;34m.\u001b[0m\u001b[0mget_result\u001b[0m\u001b[0;34m(\u001b[0m\u001b[0;34m)\u001b[0m\u001b[0;34m\u001b[0m\u001b[0;34m\u001b[0m\u001b[0m\n\u001b[0m\u001b[1;32m   6879\u001b[0m \u001b[0;34m\u001b[0m\u001b[0m\n\u001b[1;32m   6880\u001b[0m     \u001b[0;32mdef\u001b[0m \u001b[0mapplymap\u001b[0m\u001b[0;34m(\u001b[0m\u001b[0mself\u001b[0m\u001b[0;34m,\u001b[0m \u001b[0mfunc\u001b[0m\u001b[0;34m)\u001b[0m \u001b[0;34m->\u001b[0m \u001b[0;34m\"DataFrame\"\u001b[0m\u001b[0;34m:\u001b[0m\u001b[0;34m\u001b[0m\u001b[0;34m\u001b[0m\u001b[0m\n",
      "\u001b[0;32m~/anaconda3/lib/python3.7/site-packages/pandas/core/apply.py\u001b[0m in \u001b[0;36mget_result\u001b[0;34m(self)\u001b[0m\n\u001b[1;32m    184\u001b[0m             \u001b[0;32mreturn\u001b[0m \u001b[0mself\u001b[0m\u001b[0;34m.\u001b[0m\u001b[0mapply_raw\u001b[0m\u001b[0;34m(\u001b[0m\u001b[0;34m)\u001b[0m\u001b[0;34m\u001b[0m\u001b[0;34m\u001b[0m\u001b[0m\n\u001b[1;32m    185\u001b[0m \u001b[0;34m\u001b[0m\u001b[0m\n\u001b[0;32m--> 186\u001b[0;31m         \u001b[0;32mreturn\u001b[0m \u001b[0mself\u001b[0m\u001b[0;34m.\u001b[0m\u001b[0mapply_standard\u001b[0m\u001b[0;34m(\u001b[0m\u001b[0;34m)\u001b[0m\u001b[0;34m\u001b[0m\u001b[0;34m\u001b[0m\u001b[0m\n\u001b[0m\u001b[1;32m    187\u001b[0m \u001b[0;34m\u001b[0m\u001b[0m\n\u001b[1;32m    188\u001b[0m     \u001b[0;32mdef\u001b[0m \u001b[0mapply_empty_result\u001b[0m\u001b[0;34m(\u001b[0m\u001b[0mself\u001b[0m\u001b[0;34m)\u001b[0m\u001b[0;34m:\u001b[0m\u001b[0;34m\u001b[0m\u001b[0;34m\u001b[0m\u001b[0m\n",
      "\u001b[0;32m~/anaconda3/lib/python3.7/site-packages/pandas/core/apply.py\u001b[0m in \u001b[0;36mapply_standard\u001b[0;34m(self)\u001b[0m\n\u001b[1;32m    294\u001b[0m             \u001b[0;32mtry\u001b[0m\u001b[0;34m:\u001b[0m\u001b[0;34m\u001b[0m\u001b[0;34m\u001b[0m\u001b[0m\n\u001b[1;32m    295\u001b[0m                 result = libreduction.compute_reduction(\n\u001b[0;32m--> 296\u001b[0;31m                     \u001b[0mvalues\u001b[0m\u001b[0;34m,\u001b[0m \u001b[0mself\u001b[0m\u001b[0;34m.\u001b[0m\u001b[0mf\u001b[0m\u001b[0;34m,\u001b[0m \u001b[0maxis\u001b[0m\u001b[0;34m=\u001b[0m\u001b[0mself\u001b[0m\u001b[0;34m.\u001b[0m\u001b[0maxis\u001b[0m\u001b[0;34m,\u001b[0m \u001b[0mdummy\u001b[0m\u001b[0;34m=\u001b[0m\u001b[0mdummy\u001b[0m\u001b[0;34m,\u001b[0m \u001b[0mlabels\u001b[0m\u001b[0;34m=\u001b[0m\u001b[0mlabels\u001b[0m\u001b[0;34m\u001b[0m\u001b[0;34m\u001b[0m\u001b[0m\n\u001b[0m\u001b[1;32m    297\u001b[0m                 )\n\u001b[1;32m    298\u001b[0m             \u001b[0;32mexcept\u001b[0m \u001b[0mValueError\u001b[0m \u001b[0;32mas\u001b[0m \u001b[0merr\u001b[0m\u001b[0;34m:\u001b[0m\u001b[0;34m\u001b[0m\u001b[0;34m\u001b[0m\u001b[0m\n",
      "\u001b[0;32mpandas/_libs/reduction.pyx\u001b[0m in \u001b[0;36mpandas._libs.reduction.compute_reduction\u001b[0;34m()\u001b[0m\n",
      "\u001b[0;32mpandas/_libs/reduction.pyx\u001b[0m in \u001b[0;36mpandas._libs.reduction.Reducer.get_result\u001b[0;34m()\u001b[0m\n",
      "\u001b[0;32m<ipython-input-216-0f8ac8cdd0a2>\u001b[0m in \u001b[0;36m<lambda>\u001b[0;34m(x)\u001b[0m\n\u001b[0;32m----> 1\u001b[0;31m \u001b[0mdf\u001b[0m\u001b[0;34m.\u001b[0m\u001b[0mapply\u001b[0m\u001b[0;34m(\u001b[0m\u001b[0;32mlambda\u001b[0m \u001b[0mx\u001b[0m \u001b[0;34m:\u001b[0m \u001b[0mto_city\u001b[0m\u001b[0;34m(\u001b[0m\u001b[0mx\u001b[0m\u001b[0;34m.\u001b[0m\u001b[0mShopAddress\u001b[0m\u001b[0;34m)\u001b[0m\u001b[0;34m,\u001b[0m \u001b[0maxis\u001b[0m \u001b[0;34m=\u001b[0m \u001b[0;36m1\u001b[0m\u001b[0;34m)\u001b[0m\u001b[0;34m\u001b[0m\u001b[0;34m\u001b[0m\u001b[0m\n\u001b[0m",
      "\u001b[0;32m<ipython-input-214-2823fa295639>\u001b[0m in \u001b[0;36mto_city\u001b[0;34m(address)\u001b[0m\n\u001b[1;32m      2\u001b[0m     \u001b[0mp\u001b[0m \u001b[0;34m=\u001b[0m \u001b[0mre\u001b[0m\u001b[0;34m.\u001b[0m\u001b[0mcompile\u001b[0m\u001b[0;34m(\u001b[0m\u001b[0;34m'\\d{5}(\\s|,\\s)(\\w*\\s\\w*|\\w*)'\u001b[0m\u001b[0;34m)\u001b[0m\u001b[0;34m\u001b[0m\u001b[0;34m\u001b[0m\u001b[0m\n\u001b[1;32m      3\u001b[0m     \u001b[0mcity\u001b[0m \u001b[0;34m=\u001b[0m \u001b[0mre\u001b[0m\u001b[0;34m.\u001b[0m\u001b[0msearch\u001b[0m\u001b[0;34m(\u001b[0m\u001b[0mp\u001b[0m\u001b[0;34m,\u001b[0m \u001b[0maddress\u001b[0m\u001b[0;34m)\u001b[0m\u001b[0;34m\u001b[0m\u001b[0;34m\u001b[0m\u001b[0m\n\u001b[0;32m----> 4\u001b[0;31m     \u001b[0;32mreturn\u001b[0m \u001b[0mcity\u001b[0m\u001b[0;34m.\u001b[0m\u001b[0mgroup\u001b[0m\u001b[0;34m(\u001b[0m\u001b[0;36m2\u001b[0m\u001b[0;34m)\u001b[0m\u001b[0;34m\u001b[0m\u001b[0;34m\u001b[0m\u001b[0m\n\u001b[0m",
      "\u001b[0;31mAttributeError\u001b[0m: 'NoneType' object has no attribute 'group'"
     ]
    }
   ],
   "source": [
    "df.apply(lambda x : to_city(x.ShopAddress), axis = 1)"
   ]
  },
  {
   "cell_type": "code",
   "execution_count": 220,
   "metadata": {},
   "outputs": [],
   "source": [
    "def to_city2(address):\n",
    "    dress = re.search('\\d{5}(\\s|,\\s)(\\w*\\s\\w*|\\w*)', address, re.IGNORECASE)\n",
    "    if dress:\n",
    "        return dress.group(2)\n",
    "        "
   ]
  },
  {
   "cell_type": "code",
   "execution_count": 221,
   "metadata": {},
   "outputs": [
    {
     "name": "stdout",
     "output_type": "stream",
     "text": [
      "hulu langat\n"
     ]
    }
   ],
   "source": [
    "print(to_city2(add))"
   ]
  },
  {
   "cell_type": "code",
   "execution_count": 222,
   "metadata": {
    "scrolled": false
   },
   "outputs": [
    {
     "data": {
      "text/plain": [
       "0         KUALA LUMPUR\n",
       "1         KUALA LUMPUR\n",
       "2         KUALA LUMPUR\n",
       "3                KLANG\n",
       "4        PETALING JAYA\n",
       "            ...       \n",
       "151            JERETEH\n",
       "152    TEMERLOH PAHANG\n",
       "153       PUSAT JENGKA\n",
       "154        RAUB PAHANG\n",
       "155       PEKAN PAHANG\n",
       "Name: ShopAddress, Length: 156, dtype: object"
      ]
     },
     "execution_count": 222,
     "metadata": {},
     "output_type": "execute_result"
    }
   ],
   "source": [
    "df.ShopAddress.apply(lambda x : to_city2(x))"
   ]
  },
  {
   "cell_type": "code",
   "execution_count": 157,
   "metadata": {},
   "outputs": [
    {
     "data": {
      "text/plain": [
       "0      None\n",
       "1      None\n",
       "2      None\n",
       "3      None\n",
       "4      None\n",
       "       ... \n",
       "151    None\n",
       "152    None\n",
       "153    None\n",
       "154    None\n",
       "155    None\n",
       "Name: ShopAddress, Length: 156, dtype: object"
      ]
     },
     "execution_count": 157,
     "metadata": {},
     "output_type": "execute_result"
    }
   ],
   "source": [
    "df['ShopAddress'].apply(lambda x: re.search('\\d{5},\\s(\\w*\\s\\w*|\\w*)', x))"
   ]
  },
  {
   "cell_type": "code",
   "execution_count": 227,
   "metadata": {},
   "outputs": [
    {
     "data": {
      "text/html": [
       "<div>\n",
       "<style scoped>\n",
       "    .dataframe tbody tr th:only-of-type {\n",
       "        vertical-align: middle;\n",
       "    }\n",
       "\n",
       "    .dataframe tbody tr th {\n",
       "        vertical-align: top;\n",
       "    }\n",
       "\n",
       "    .dataframe thead th {\n",
       "        text-align: right;\n",
       "    }\n",
       "</style>\n",
       "<table border=\"1\" class=\"dataframe\">\n",
       "  <thead>\n",
       "    <tr style=\"text-align: right;\">\n",
       "      <th></th>\n",
       "      <th>ShopName</th>\n",
       "      <th>ShopAddress</th>\n",
       "      <th>Postcode</th>\n",
       "      <th>City</th>\n",
       "    </tr>\n",
       "  </thead>\n",
       "  <tbody>\n",
       "    <tr>\n",
       "      <th>0</th>\n",
       "      <td>BERJAYA TIMES SQUARE EXPERIENCE CENTRE</td>\n",
       "      <td>G17, GROUND FLOOR, EAST WING, BERJAYA TIMES SQ...</td>\n",
       "      <td>55100</td>\n",
       "      <td>KUALA LUMPUR</td>\n",
       "    </tr>\n",
       "    <tr>\n",
       "      <th>1</th>\n",
       "      <td>BERJAYA TIMES SQUARE EXPERIENCE CENTRE</td>\n",
       "      <td>NO. 1-10, LEVEL 1, BERJAYA TIMES SQUARE, NO. 1...</td>\n",
       "      <td>55100</td>\n",
       "      <td>KUALA LUMPUR</td>\n",
       "    </tr>\n",
       "    <tr>\n",
       "      <th>2</th>\n",
       "      <td>U MOBILE SERVICE CENTRE, AEON AU2 SHOPPING CENTRE</td>\n",
       "      <td>G11, AEON AU2 SHOPPING CENTRE, NO 6, JALAN TAM...</td>\n",
       "      <td>54200</td>\n",
       "      <td>KUALA LUMPUR</td>\n",
       "    </tr>\n",
       "    <tr>\n",
       "      <th>3</th>\n",
       "      <td>U MOBILE SERVICE CENTRE, BUKIT TINGGI, KLANG</td>\n",
       "      <td>B-G-10, GROUND FLOOR, BBT ONE, LEBUH BATU NILA...</td>\n",
       "      <td>41200</td>\n",
       "      <td>KLANG</td>\n",
       "    </tr>\n",
       "    <tr>\n",
       "      <th>4</th>\n",
       "      <td>U MOBILE SERVICE CENTRE, SUNWAY PYRAMID</td>\n",
       "      <td>LOT F1.26, 1ST FLOOR, SUNWAY PYRAMID, NO. 3, J...</td>\n",
       "      <td>46150</td>\n",
       "      <td>PETALING JAYA</td>\n",
       "    </tr>\n",
       "    <tr>\n",
       "      <th>...</th>\n",
       "      <td>...</td>\n",
       "      <td>...</td>\n",
       "      <td>...</td>\n",
       "      <td>...</td>\n",
       "    </tr>\n",
       "    <tr>\n",
       "      <th>151</th>\n",
       "      <td>E.Q COMMUNICATION ENTERPRISE</td>\n",
       "      <td>LOT 315 JALAN BUKIT MOK MEK, 22000 JERETEH, TE...</td>\n",
       "      <td>22000</td>\n",
       "      <td>JERETEH</td>\n",
       "    </tr>\n",
       "    <tr>\n",
       "      <th>152</th>\n",
       "      <td>AZ BROADBAND SOLUTIONS</td>\n",
       "      <td>NO.9, JALAN DATUK BAHAMAN 3 28000 TEMERLOH PAHANG</td>\n",
       "      <td>28000</td>\n",
       "      <td>TEMERLOH PAHANG</td>\n",
       "    </tr>\n",
       "    <tr>\n",
       "      <th>153</th>\n",
       "      <td>BONACO ENTERPRISE</td>\n",
       "      <td>NO.3 BAWAH BANGUNAN 36 UNIT, 26400 PUSAT JENGK...</td>\n",
       "      <td>26400</td>\n",
       "      <td>PUSAT JENGKA</td>\n",
       "    </tr>\n",
       "    <tr>\n",
       "      <th>154</th>\n",
       "      <td>JJCOM TRADING</td>\n",
       "      <td>21B, JALAN DATO ABDULLAH 27600 RAUB PAHANG</td>\n",
       "      <td>27600</td>\n",
       "      <td>RAUB PAHANG</td>\n",
       "    </tr>\n",
       "    <tr>\n",
       "      <th>155</th>\n",
       "      <td>HELLO PHONE SHOP</td>\n",
       "      <td>LOT69, JALAN ENGKU MUDA MANSOR 26600 PEKAN PAHANG</td>\n",
       "      <td>26600</td>\n",
       "      <td>PEKAN PAHANG</td>\n",
       "    </tr>\n",
       "  </tbody>\n",
       "</table>\n",
       "<p>156 rows × 4 columns</p>\n",
       "</div>"
      ],
      "text/plain": [
       "                                              ShopName  \\\n",
       "0               BERJAYA TIMES SQUARE EXPERIENCE CENTRE   \n",
       "1               BERJAYA TIMES SQUARE EXPERIENCE CENTRE   \n",
       "2    U MOBILE SERVICE CENTRE, AEON AU2 SHOPPING CENTRE   \n",
       "3         U MOBILE SERVICE CENTRE, BUKIT TINGGI, KLANG   \n",
       "4              U MOBILE SERVICE CENTRE, SUNWAY PYRAMID   \n",
       "..                                                 ...   \n",
       "151                       E.Q COMMUNICATION ENTERPRISE   \n",
       "152                             AZ BROADBAND SOLUTIONS   \n",
       "153                                  BONACO ENTERPRISE   \n",
       "154                                      JJCOM TRADING   \n",
       "155                                   HELLO PHONE SHOP   \n",
       "\n",
       "                                           ShopAddress Postcode  \\\n",
       "0    G17, GROUND FLOOR, EAST WING, BERJAYA TIMES SQ...    55100   \n",
       "1    NO. 1-10, LEVEL 1, BERJAYA TIMES SQUARE, NO. 1...    55100   \n",
       "2    G11, AEON AU2 SHOPPING CENTRE, NO 6, JALAN TAM...    54200   \n",
       "3    B-G-10, GROUND FLOOR, BBT ONE, LEBUH BATU NILA...    41200   \n",
       "4    LOT F1.26, 1ST FLOOR, SUNWAY PYRAMID, NO. 3, J...    46150   \n",
       "..                                                 ...      ...   \n",
       "151  LOT 315 JALAN BUKIT MOK MEK, 22000 JERETEH, TE...    22000   \n",
       "152  NO.9, JALAN DATUK BAHAMAN 3 28000 TEMERLOH PAHANG    28000   \n",
       "153  NO.3 BAWAH BANGUNAN 36 UNIT, 26400 PUSAT JENGK...    26400   \n",
       "154         21B, JALAN DATO ABDULLAH 27600 RAUB PAHANG    27600   \n",
       "155  LOT69, JALAN ENGKU MUDA MANSOR 26600 PEKAN PAHANG    26600   \n",
       "\n",
       "                City  \n",
       "0       KUALA LUMPUR  \n",
       "1       KUALA LUMPUR  \n",
       "2       KUALA LUMPUR  \n",
       "3              KLANG  \n",
       "4      PETALING JAYA  \n",
       "..               ...  \n",
       "151          JERETEH  \n",
       "152  TEMERLOH PAHANG  \n",
       "153     PUSAT JENGKA  \n",
       "154      RAUB PAHANG  \n",
       "155     PEKAN PAHANG  \n",
       "\n",
       "[156 rows x 4 columns]"
      ]
     },
     "execution_count": 227,
     "metadata": {},
     "output_type": "execute_result"
    }
   ],
   "source": [
    "df['City'] = df.ShopAddress.apply(lambda x : to_city2(x))\n",
    "df"
   ]
  },
  {
   "cell_type": "code",
   "execution_count": 226,
   "metadata": {},
   "outputs": [
    {
     "data": {
      "text/plain": [
       "156"
      ]
     },
     "execution_count": 226,
     "metadata": {},
     "output_type": "execute_result"
    }
   ],
   "source": [
    "df.City.isnull().count()"
   ]
  },
  {
   "cell_type": "code",
   "execution_count": 266,
   "metadata": {},
   "outputs": [],
   "source": [
    "def fix1(line):\n",
    "    rex = re.compile(r'(\\d{5})\\s(\\w*)')\n",
    "    line = re.sub( rex, r'\\1,\\2', line)\n",
    "    return line"
   ]
  },
  {
   "cell_type": "code",
   "execution_count": 267,
   "metadata": {},
   "outputs": [
    {
     "data": {
      "text/plain": [
       "0      G17, GROUND FLOOR, EAST WING, BERJAYA TIMES SQ...\n",
       "1      NO. 1-10, LEVEL 1, BERJAYA TIMES SQUARE, NO. 1...\n",
       "2      G11, AEON AU2 SHOPPING CENTRE, NO 6, JALAN TAM...\n",
       "3      B-G-10, GROUND FLOOR, BBT ONE, LEBUH BATU NILA...\n",
       "4      LOT F1.26, 1ST FLOOR, SUNWAY PYRAMID, NO. 3, J...\n",
       "                             ...                        \n",
       "151    LOT 315 JALAN BUKIT MOK MEK, 22000,JERETEH, TE...\n",
       "152    NO.9, JALAN DATUK BAHAMAN 3 28000,TEMERLOH PAHANG\n",
       "153    NO.3 BAWAH BANGUNAN 36 UNIT, 26400,PUSAT JENGK...\n",
       "154           21B, JALAN DATO ABDULLAH 27600,RAUB PAHANG\n",
       "155    LOT69, JALAN ENGKU MUDA MANSOR 26600,PEKAN PAHANG\n",
       "Name: ShopAddress, Length: 156, dtype: object"
      ]
     },
     "execution_count": 267,
     "metadata": {},
     "output_type": "execute_result"
    }
   ],
   "source": [
    "df.ShopAddress.apply(lambda x : fix1(x))"
   ]
  },
  {
   "cell_type": "code",
   "execution_count": 274,
   "metadata": {},
   "outputs": [
    {
     "data": {
      "text/plain": [
       "'LG313C, 1UTAMA SHOPPING CENTRE (NEW WING), 1, PERSIARAN BANDAR UTAMA, BANDAR UTAMA, 47100 PETALING JAYA, SELANGOR.'"
      ]
     },
     "execution_count": 274,
     "metadata": {},
     "output_type": "execute_result"
    }
   ],
   "source": [
    "df.ShopAddress[5]"
   ]
  },
  {
   "cell_type": "code",
   "execution_count": null,
   "metadata": {},
   "outputs": [],
   "source": []
  }
 ],
 "metadata": {
  "kernelspec": {
   "display_name": "Python 3",
   "language": "python",
   "name": "python3"
  },
  "language_info": {
   "codemirror_mode": {
    "name": "ipython",
    "version": 3
   },
   "file_extension": ".py",
   "mimetype": "text/x-python",
   "name": "python",
   "nbconvert_exporter": "python",
   "pygments_lexer": "ipython3",
   "version": "3.7.3"
  }
 },
 "nbformat": 4,
 "nbformat_minor": 2
}
